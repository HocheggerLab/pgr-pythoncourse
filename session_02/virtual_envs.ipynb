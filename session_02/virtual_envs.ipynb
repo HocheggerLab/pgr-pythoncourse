{
 "cells": [
  {
   "cell_type": "markdown",
   "metadata": {},
   "source": [
    "## What Are Python Virtual Environments?\n",
    "A Python virtual environment consists of two essential components: the Python interpreter that the virtual environment runs on and a folder containing third-party libraries installed in the virtual environment. These virtual environments are isolated from the other virtual environments, which means any changes on dependencies installed in a virtual environment don’t affect the dependencies of the other virtual environments or the system-wide libraries. Thus, we can create multiple virtual environments with different Python versions, plus different libraries or the same libraries in different versions.\n",
    "\n"
   ]
  },
  {
   "cell_type": "markdown",
   "metadata": {},
   "source": [
    "![Screenshot](./data/PythonVirtualEnvs.png)"
   ]
  },
  {
   "cell_type": "markdown",
   "metadata": {},
   "source": [
    "## Why are Virtual Envs important?\n",
    "\n",
    "- Isolating dependencies\n",
    "- Reproducibility\n",
    "- Preventing package incompatibilities\n",
    "- Access to different versions of Python"
   ]
  },
  {
   "cell_type": "markdown",
   "metadata": {},
   "source": [
    "# How to create a virtual environment\n",
    "\n",
    "There are various ways to manage Python. We use conda for now, since this is the standard for data science these days.\n",
    "There are only a conda commands in the terminal that you need to know. Again AI is very helpful to navigate this.\n",
    "\n",
    "For example: Creating a new environment:\n",
    "\n",
    "```bash\n",
    "conda create -n myenv python=3.10\n",
    "conda activate myenv\n",
    "```\n",
    "\n",
    "### Excercise: Get chatGTP to help you to get conda to give you a list of your environemnts and to delete myenv.\n",
    "\n",
    "The main point of the environment is to install additional packages.\n",
    "We will be working with the pgr-pythoncourse env for now that you should all have.\n",
    "Activate this in the terminal and then install the following packages using the python package installer pip\n",
    "\n",
    "```bash\n",
    "pip install jupyter numpy pandas matplotlib seaborn\n",
    "```\n",
    "\n"
   ]
  },
  {
   "cell_type": "markdown",
   "metadata": {},
   "source": [
    "## When do you need to make a new environment?\n",
    "Opinions differ. Some people suggest a separate env for each new project.\n",
    "I dont think this is necessary for most data analysis project where you use the same packages repeatedly.\n",
    "So I have a single environment named data-analysis that I use for these projects.\n"
   ]
  },
  {
   "cell_type": "markdown",
   "metadata": {},
   "source": [
    "## How do I set the env up in VS code?\n",
    "Press shift/cmd p and search for Python: select interpreter\n",
    "You should see all the available envs there and you can choose which one you want for the project.\n",
    "With jupyter notebooks you click on Select Kernel on the right and navigate to your environment from there. \n",
    "You have to do this for each new ipynb file. (there is a way to have a default, but this goes into VS code config etc...)"
   ]
  },
  {
   "cell_type": "markdown",
   "metadata": {},
   "source": [
    "The package management system in Python is a mess at the moment and there will probably be a unified way to manage this coming up soon\n",
    "with the PSF.\n",
    "Currently the fastest and best system comes from Astral UV; if you are interested you can check this out:\n",
    "https://docs.astral.sh/uv/"
   ]
  },
  {
   "cell_type": "markdown",
   "metadata": {},
   "source": []
  }
 ],
 "metadata": {
  "language_info": {
   "name": "python"
  }
 },
 "nbformat": 4,
 "nbformat_minor": 2
}
