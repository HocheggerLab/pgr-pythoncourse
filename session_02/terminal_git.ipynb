{
 "cells": [
  {
   "attachments": {},
   "cell_type": "markdown",
   "metadata": {},
   "source": [
    "# Terminal commands"
   ]
  },
  {
   "attachments": {},
   "cell_type": "markdown",
   "metadata": {},
   "source": [
    "1) cd: Change directory. Use this command followed by a directory path to navigate to that directory.\n",
    "Example: cd Documents will navigate to the \"Documents\" directory.\n",
    "2) ls: List files and directories in the current directory.\n",
    "Example: ls will list the files and directories in the current directory.\n",
    "3) pwd: Print working directory. Displays the current directory's path.\n",
    "Example: pwd will display the current directory's path.\n",
    "4) mkdir: Create a new directory. Use this command followed by the desired directory name.\n",
    "Example: mkdir NewFolder will create a new directory named \"NewFolder\" in the current directory.\n",
    "5) touch: Create a new file. Use this command followed by the desired file name.\n",
    "Example: touch newfile.txt will create a new file named \"newfile.txt\" in the current directory.\n",
    "6) rm: Remove files and directories. Use this command followed by the file or directory name.\n",
    "Example: rm file.txt will remove the file named \"file.txt\".\n",
    "7) rmdir: Remove an empty directory. Use this command followed by the directory name.\n",
    "Example: rmdir emptydir will remove the empty directory named \"emptydir\".\n",
    "8) cp: Copy files and directories. Use this command followed by the source file or directory and the destination.\n",
    "Example: cp file.txt newfile.txt will copy \"file.txt\" to a new file named \"newfile.txt\".\n",
    "8) mv: Move or rename files and directories. Use this command followed by the source file or directory and the destination.\n",
    "Example: mv file.txt newdir/file.txt will move \"file.txt\" to the \"newdir\" directory.\n",
    "9) cat: Display the contents of a file.\n",
    "Example: cat file.txt will display the contents of \"file.txt\".\n",
    "10) man: Show the manual pages for a command. Use this command followed by the command name.\n",
    "Example: man ls will display the manual pages for the \"ls\" command.\n",
    "11) history: Display the command history. Shows a list of previously executed commands.\n",
    "Example: history will display the command history."
   ]
  },
  {
   "attachments": {},
   "cell_type": "markdown",
   "metadata": {},
   "source": [
    "# Version Control and Git"
   ]
  },
  {
   "attachments": {},
   "cell_type": "markdown",
   "metadata": {},
   "source": [
    "<img src=\"./data/Screenshot 2023-06-30 at 20.34.34.png\" width=\"800\" height=\"400\">"
   ]
  },
  {
   "attachments": {},
   "cell_type": "markdown",
   "metadata": {},
   "source": [
    "Git is a distributed version control system that allows developers to track changes to their code over time. It provides a robust and efficient way to manage source code, enabling multiple developers to work on a project simultaneously while keeping a history of all modifications. Git facilitates collaboration, branch management, and merging of code changes. On the other hand, GitHub is a web-based hosting service built around Git. It provides a platform for developers to store, share, and collaborate on Git repositories. GitHub offers additional features like issue tracking, pull requests, and project management tools, making it a popular choice for open-source and private software development projects."
   ]
  },
  {
   "attachments": {},
   "cell_type": "markdown",
   "metadata": {},
   "source": [
    "<img src=\"./data/Screenshot 2023-07-02 at 07.46.42.png\" width=\"800\" height=\"400\">"
   ]
  },
  {
   "attachments": {},
   "cell_type": "markdown",
   "metadata": {},
   "source": [
    "Check you git config\n",
    "git config user.name"
   ]
  },
  {
   "attachments": {},
   "cell_type": "markdown",
   "metadata": {},
   "source": [
    "Example to work with a git repository\n",
    "- cd ~/Desktop\n",
    "- mkdir git_test\n",
    "- cd git_test\n",
    "- touch git_test1.py\n",
    "- open the file and write print('hello world)\n",
    "- git status - check if this is already a git repository\n",
    "- git init - initialise version control with git\n",
    "- git add . - add all files in the folder to version control\n",
    "- git log - check the staging area and commits\n",
    "- git commit -m \"initial commit\"\n",
    "etc..."
   ]
  },
  {
   "attachments": {},
   "cell_type": "markdown",
   "metadata": {},
   "source": [
    "The main thing you will need to do is to make sure that the code I share with you is up to date.\n",
    "- Go to the hhlab-ifanalysis folder using cd \n",
    "- git pull - this pulls down all the latest changes from the githuib repo"
   ]
  },
  {
   "cell_type": "code",
   "execution_count": null,
   "metadata": {},
   "outputs": [],
   "source": []
  }
 ],
 "metadata": {
  "kernelspec": {
   "display_name": "Python 3",
   "language": "python",
   "name": "python3"
  },
  "language_info": {
   "codemirror_mode": {
    "name": "ipython",
    "version": 3
   },
   "file_extension": ".py",
   "mimetype": "text/x-python",
   "name": "python",
   "nbconvert_exporter": "python",
   "pygments_lexer": "ipython3",
   "version": "3.11.0"
  },
  "orig_nbformat": 4,
  "vscode": {
   "interpreter": {
    "hash": "57acf2c8ba21b6d9cbc24e410e9c73ba3109a7307561cd137bdcdcdf604d9154"
   }
  }
 },
 "nbformat": 4,
 "nbformat_minor": 2
}
