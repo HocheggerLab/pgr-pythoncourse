{
 "cells": [
  {
   "cell_type": "markdown",
   "metadata": {},
   "source": [
    "# Introduction to Python Functions\n",
    "\n",
    "In this notebook, we will cover the basics of Python functions, including how to write them, document them, and understand their return values. We’ll also touch on some foundational concepts of functional programming.\n"
   ]
  },
  {
   "cell_type": "markdown",
   "metadata": {},
   "source": [
    "## 1. What is a Function?\n",
    "\n",
    "A function is a reusable block of code that performs a specific task. Functions help to break your code into smaller, manageable chunks, making it easier to read and maintain.\n",
    "\n",
    "**Basic Structure of a Function**\n",
    "\n",
    "A simple Python function consists of:\n",
    "\t•\tThe def keyword, which starts the function definition.\n",
    "\t•\tThe function name followed by parentheses ().\n",
    "\t•\tA colon : to indicate the start of the function body.\n",
    "\t•\tAn indented block of code within the function.\n"
   ]
  },
  {
   "cell_type": "code",
   "execution_count": null,
   "metadata": {},
   "outputs": [],
   "source": [
    "# A simple function that prints \"Hello, world!\"\n",
    "def greet():\n",
    "    print(\"Hello, world!\")\n",
    "\n",
    "# Calling the function\n",
    "greet()"
   ]
  },
  {
   "cell_type": "markdown",
   "metadata": {},
   "source": [
    "2. Parameters and Arguments\n",
    "\n",
    "Functions can take inputs, known as parameters, which allow them to be more flexible.\n"
   ]
  },
  {
   "cell_type": "code",
   "execution_count": null,
   "metadata": {},
   "outputs": [],
   "source": [
    "# Function with a parameter\n",
    "def greet_person(name):\n",
    "    print(f\"Hello, {name}!\")\n",
    "\n",
    "# Calling the function with an argument\n",
    "greet_person(\"Alice\")"
   ]
  },
  {
   "cell_type": "code",
   "execution_count": null,
   "metadata": {},
   "outputs": [],
   "source": [
    "def add_numbers(a, b):\n",
    "    return a + b\n",
    "\n",
    "# Calling the function with two arguments\n",
    "result = add_numbers(5, 10)\n",
    "print(\"Sum:\", result)"
   ]
  },
  {
   "cell_type": "markdown",
   "metadata": {},
   "source": [
    "3. The return Statement\n",
    "\n",
    "The return statement is used to send a result back to the caller of the function. Without return, a function will return None by default.\n"
   ]
  },
  {
   "cell_type": "code",
   "execution_count": null,
   "metadata": {},
   "outputs": [],
   "source": [
    "def square_number(num):\n",
    "    return num * num\n",
    "\n",
    "# Storing and printing the result\n",
    "squared = square_number(4)\n",
    "print(\"Squared value:\", squared)"
   ]
  },
  {
   "cell_type": "markdown",
   "metadata": {},
   "source": [
    "4. Docstrings\n",
    "\n",
    "Docstrings provide a convenient way to document what a function does. They are written as the first statement within the function and are enclosed in triple quotes \"\"\"."
   ]
  },
  {
   "cell_type": "code",
   "execution_count": null,
   "metadata": {},
   "outputs": [],
   "source": [
    "def multiply_numbers(x, y):\n",
    "    \"\"\"\n",
    "    Multiplies two numbers and returns the result.\n",
    "    \n",
    "    Parameters:\n",
    "    x (int or float): The first number.\n",
    "    y (int or float): The second number.\n",
    "    \n",
    "    Returns:\n",
    "    int or float: The product of x and y.\n",
    "    \"\"\"\n",
    "    return x * y\n",
    "\n",
    "# Checking the docstring\n",
    "help(multiply_numbers)"
   ]
  },
  {
   "cell_type": "markdown",
   "metadata": {},
   "source": [
    "5. Advanced Functional Programming Concepts\n",
    "\n",
    "- Function as objects\n",
    "- Higher order functions\n",
    "- Anonymous (lamda) functions\n",
    "- map(), reduce(), filter()\n",
    "\n",
    "\n",
    "\n"
   ]
  },
  {
   "cell_type": "markdown",
   "metadata": {},
   "source": []
  }
 ],
 "metadata": {
  "language_info": {
   "name": "python"
  }
 },
 "nbformat": 4,
 "nbformat_minor": 2
}
