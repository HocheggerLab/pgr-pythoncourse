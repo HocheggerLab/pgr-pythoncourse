{
 "cells": [
  {
   "cell_type": "markdown",
   "metadata": {},
   "source": [
    "# Python Lab Course Session 01\n",
    "## Learning objectives\n",
    "\n",
    "### Python Introduction\n",
    "\n",
    "### Setting up a conda environment and using it in VS code\n",
    "\n",
    "### Working with Python\n",
    "- Running Scripts \n",
    "- Jupyter Notebooks\n",
    "\n",
    "### Python Fundamentals\n",
    "- Working with basic python data types\n",
    "- int and floats and basic maths\n",
    "- string operations\n",
    "- variables, print and f strings\n",
    "- collections: lists, tuples, dictionaries\n",
    "\n",
    "### An example script\n",
    "\n",
    "### Practice examples\n"
   ]
  },
  {
   "cell_type": "markdown",
   "metadata": {},
   "source": [
    "---\n",
    "---"
   ]
  },
  {
   "cell_type": "markdown",
   "metadata": {},
   "source": [
    "## Python Introduction\n",
    "\n",
    "Python is an interpreted programming language that was designed in the late 1980s by Guido van Rossum and was first released in 1991. It was created with a focus on simplicity and readability.\n",
    "Orignially Python was meant to be a scripting language to write small terminal scripts, but it soon became popular for larger software development projects and web development. In the last 15 years the use of Python in datascience increased steadily and Python is now the major language for machine learning and AI.\n",
    "Python is maintained by the PSF, with new releases coming out every year in october. The latest release of python is 3.13.\n",
    "https://docs.python.org/3/index.html\n",
    "\n",
    "### Examples of python usage\n",
    "---\n",
    "- small scripts using .py files, e.g gRNA converter\n",
    "- large projects using python modules, e.g omero-screen\n",
    "- data analysis using jupyter, e.g Avelos image data\n",
    "\n",
    "### Strong points of Python\n",
    "---\n",
    "- easy and flexible to write code in differnet styles \n",
    "- automatic memory managment\n",
    "- huge open source code base with lots of helpful packages https://pypi.org/\n",
    "- friendly community\n",
    "\n"
   ]
  },
  {
   "cell_type": "code",
   "execution_count": 18,
   "metadata": {},
   "outputs": [],
   "source": [
    "import this"
   ]
  },
  {
   "cell_type": "markdown",
   "metadata": {},
   "source": [
    "## Python Scripts\n",
    "\n",
    "There are two ways to work with python. We will be mostly using Jupyter notebooks later but its useful to also be aware of scriting and working with .py files.\n",
    "\n",
    "### Instructions\n",
    "---\n",
    "- Open the explorer window (shift command E). \n",
    "- Click on new file\n",
    "- Call the file hello.py\n",
    "- type: print(\"hello world\")\n",
    "- run the script using the run button (triangle, top right of the main window) \n",
    "- alternatively you can run the file from the terminal. \n",
    "- in the main top manue select termina new terminal\n",
    "- type python3 hello.py\n",
    "\n",
    "\n",
    "\n",
    "\n"
   ]
  },
  {
   "cell_type": "markdown",
   "metadata": {},
   "source": [
    "## Jupyter Notebooks\n",
    "\n",
    "Jupyter Notebooks are an interactive and user-friendly tool that allows you to write, run, and share code in a web-based interface. They are especially popular for Python programming and are widely used in data science, machine learning, and research. Jupyter notebooks combine code execution, text, visualizations, and equations into a single document, making them an excellent platform for both learning and experimenting.\n",
    "\n",
    "Key Features of Jupyter Notebooks:\n",
    "\n",
    "1.\tCode Cells: In a Jupyter Notebook, you can write code in cells. After writing your code in a cell, you can run it and see the results immediately. This makes it easier to test small snippets of code step by step, rather than writing everything at once.\n",
    "2.\tMarkdown Cells: Besides code, Jupyter allows you to add descriptive text using Markdown, which is a lightweight formatting language. You can use Markdown cells to explain your code, write headings, and even include formatted text, links, or images.\n",
    "3.\tInline Output: Jupyter Notebooks display output, including text results, plots, and images, directly beneath the code that generated them. This makes it easy to visualize data or understand the result of each code block without switching windows or environments.\n",
    "4.\tInteractive Visualizations: Jupyter Notebooks support interactive charts and visualizations, which can be helpful when working with data. For example, using libraries like matplotlib or seaborn, you can create graphs that are shown immediately below the relevant code.\n",
    "\n",
    "### Instructions\n",
    "---\n",
    "- Open the explorer window (shift command E). \n",
    "- Click on new file\n",
    "- Call the file hello.ipynb\n",
    "- on the top write where it says Kernel, click and choose pgr-course\n",
    "Try and run a cell with print(\"hello world\")"
   ]
  },
  {
   "cell_type": "markdown",
   "metadata": {},
   "source": [
    "### Some basic Jupyter tips\n",
    "---\n",
    "- running a cell shift/enter\n",
    "- List of short cuts Help > Keyboard Shortcuts, or pressing H\n",
    "- Esc will take you into command mode where you can navigate around your notebook with arrow keys.\n",
    "- Enter will take you from command mode back into edit mode for the given cell.\n",
    "- While in command mode:\n",
    "    - A to insert a new cell above the current cell, B to insert a new cell below.\n",
    "    - M to change the current cell to Markdown, Y to change it back to code\n",
    "    - D + D (press the key twice) to delete the current cell \n",
    "- Enter will take you from command mode back into edit mode for the given cell.\n",
    "Lots more.. see here for example:\n",
    "https://www.dataquest.io/blog/jupyter-notebook-tutorial/\n",
    "https://www.dataquest.io/blog/jupyter-notebook-tips-tricks-shortcuts/\n",
    "https://jupyter.org"
   ]
  },
  {
   "cell_type": "markdown",
   "metadata": {},
   "source": [
    "## Python Fundamentals\n",
    "\n",
    "### Data types\n",
    "--- \n",
    "All computer Programs use input data transform them and put new data out. \n",
    "The type of data can vary largley from a microscopy image to a website to a sql data base.\n",
    "But the most basic unit of most programming languages are four basic data types:\n",
    "- integer 1,2,3,4\n",
    "- floats 1.0, 2.0, 3.0, 4.0\n",
    "- strings \"Hello World\"\n",
    "- boolean True, False\n",
    "To check the type of data you can use the type() function"
   ]
  },
  {
   "cell_type": "code",
   "execution_count": 2,
   "metadata": {},
   "outputs": [
    {
     "name": "stdout",
     "output_type": "stream",
     "text": [
      "<class 'int'> <class 'float'> <class 'str'> <class 'bool'>\n"
     ]
    }
   ],
   "source": [
    "print(type(1), type(1.0), type(\"Hello World\"), type(True))"
   ]
  },
  {
   "cell_type": "markdown",
   "metadata": {},
   "source": [
    "each type comes with a variety of methods. This can be checked using the dir() function"
   ]
  },
  {
   "cell_type": "code",
   "execution_count": 2,
   "metadata": {},
   "outputs": [
    {
     "data": {
      "text/plain": [
       "['__add__',\n",
       " '__class__',\n",
       " '__contains__',\n",
       " '__delattr__',\n",
       " '__dir__',\n",
       " '__doc__',\n",
       " '__eq__',\n",
       " '__format__',\n",
       " '__ge__',\n",
       " '__getattribute__',\n",
       " '__getitem__',\n",
       " '__getnewargs__',\n",
       " '__getstate__',\n",
       " '__gt__',\n",
       " '__hash__',\n",
       " '__init__',\n",
       " '__init_subclass__',\n",
       " '__iter__',\n",
       " '__le__',\n",
       " '__len__',\n",
       " '__lt__',\n",
       " '__mod__',\n",
       " '__mul__',\n",
       " '__ne__',\n",
       " '__new__',\n",
       " '__reduce__',\n",
       " '__reduce_ex__',\n",
       " '__repr__',\n",
       " '__rmod__',\n",
       " '__rmul__',\n",
       " '__setattr__',\n",
       " '__sizeof__',\n",
       " '__str__',\n",
       " '__subclasshook__',\n",
       " 'capitalize',\n",
       " 'casefold',\n",
       " 'center',\n",
       " 'count',\n",
       " 'encode',\n",
       " 'endswith',\n",
       " 'expandtabs',\n",
       " 'find',\n",
       " 'format',\n",
       " 'format_map',\n",
       " 'index',\n",
       " 'isalnum',\n",
       " 'isalpha',\n",
       " 'isascii',\n",
       " 'isdecimal',\n",
       " 'isdigit',\n",
       " 'isidentifier',\n",
       " 'islower',\n",
       " 'isnumeric',\n",
       " 'isprintable',\n",
       " 'isspace',\n",
       " 'istitle',\n",
       " 'isupper',\n",
       " 'join',\n",
       " 'ljust',\n",
       " 'lower',\n",
       " 'lstrip',\n",
       " 'maketrans',\n",
       " 'partition',\n",
       " 'removeprefix',\n",
       " 'removesuffix',\n",
       " 'replace',\n",
       " 'rfind',\n",
       " 'rindex',\n",
       " 'rjust',\n",
       " 'rpartition',\n",
       " 'rsplit',\n",
       " 'rstrip',\n",
       " 'split',\n",
       " 'splitlines',\n",
       " 'startswith',\n",
       " 'strip',\n",
       " 'swapcase',\n",
       " 'title',\n",
       " 'translate',\n",
       " 'upper',\n",
       " 'zfill']"
      ]
     },
     "execution_count": 2,
     "metadata": {},
     "output_type": "execute_result"
    }
   ],
   "source": [
    "dir(\"Hello World\")"
   ]
  },
  {
   "cell_type": "code",
   "execution_count": 3,
   "metadata": {},
   "outputs": [
    {
     "data": {
      "text/plain": [
       "3"
      ]
     },
     "execution_count": 3,
     "metadata": {},
     "output_type": "execute_result"
    }
   ],
   "source": [
    "\"hello world\".find('lo')"
   ]
  },
  {
   "cell_type": "code",
   "execution_count": 7,
   "metadata": {},
   "outputs": [
    {
     "name": "stdout",
     "output_type": "stream",
     "text": [
      "Help on built-in function find:\n",
      "\n",
      "find(...) method of builtins.str instance\n",
      "    S.find(sub[, start[, end]]) -> int\n",
      "\n",
      "    Return the lowest index in S where substring sub is found,\n",
      "    such that sub is contained within S[start:end].  Optional\n",
      "    arguments start and end are interpreted as in slice notation.\n",
      "\n",
      "    Return -1 on failure.\n",
      "\n"
     ]
    }
   ],
   "source": [
    "help(\"hello world\".find)"
   ]
  },
  {
   "cell_type": "markdown",
   "metadata": {},
   "source": [
    "To store data and work with them in a program we assign them to variables\n",
    "You can use any name as a variable except python specific terms such as class or True\n",
    "As a general rule use names that help you remember what the variable is. gene_name for example\n",
    "As a convential variables are witten all lower case with "
   ]
  },
  {
   "cell_type": "code",
   "execution_count": 5,
   "metadata": {},
   "outputs": [
    {
     "name": "stdout",
     "output_type": "stream",
     "text": [
      "HELLO WORLD\n"
     ]
    }
   ],
   "source": [
    "variable_snake = \"Hello World\"\n",
    "print(variable_snake.upper())"
   ]
  },
  {
   "cell_type": "markdown",
   "metadata": {},
   "source": [
    "## Collections\n",
    "Data are stored in larger objects called collections. There are a few options in Python but for now remember lists and dictionaroies. They are the most important ones."
   ]
  },
  {
   "cell_type": "code",
   "execution_count": 6,
   "metadata": {},
   "outputs": [
    {
     "name": "stdout",
     "output_type": "stream",
     "text": [
      "1\n",
      "2\n",
      "5\n",
      "[2, 'test']\n"
     ]
    }
   ],
   "source": [
    "# list\n",
    "list1 = [1, 2, 'test', 4, 5]\n",
    "\n",
    "# indexing\n",
    "print(list1[0])\n",
    "print(list1[1])\n",
    "print(list1[-1])\n",
    "print(list1[1:3])"
   ]
  },
  {
   "cell_type": "code",
   "execution_count": 15,
   "metadata": {},
   "outputs": [
    {
     "data": {
      "text/plain": [
       "5"
      ]
     },
     "execution_count": 15,
     "metadata": {},
     "output_type": "execute_result"
    }
   ],
   "source": [
    "len(list1)"
   ]
  },
  {
   "cell_type": "code",
   "execution_count": null,
   "metadata": {},
   "outputs": [],
   "source": [
    "# dictionaries\n",
    "\n",
    "dict1 = {'a': 1, 'b': 2, 'c': 3}\n",
    "print(dict1['a'])\n",
    "print(dict1.keys())\n",
    "print(dict1.values())\n"
   ]
  },
  {
   "cell_type": "code",
   "execution_count": 16,
   "metadata": {},
   "outputs": [
    {
     "name": "stdout",
     "output_type": "stream",
     "text": [
      "[1, 2, 3]\n"
     ]
    }
   ],
   "source": [
    "# dictionaries containing lists\n",
    "dict2 = dict(a=[1, 2, 3], b=[4, 5, 6])\n",
    "print(dict2['a'])"
   ]
  },
  {
   "cell_type": "markdown",
   "metadata": {},
   "source": [
    "# Title\n",
    "## Subtile\n",
    "\n",
    "1. list1\n",
    "2. list2\n",
    "\n",
    "- unordered1\n",
    "- unordred2\n"
   ]
  },
  {
   "cell_type": "code",
   "execution_count": 1,
   "metadata": {},
   "outputs": [
    {
     "name": "stdout",
     "output_type": "stream",
     "text": [
      "hello world\n"
     ]
    }
   ],
   "source": [
    "print(\"hello world\")"
   ]
  },
  {
   "cell_type": "code",
   "execution_count": null,
   "metadata": {},
   "outputs": [],
   "source": []
  },
  {
   "cell_type": "code",
   "execution_count": null,
   "metadata": {},
   "outputs": [],
   "source": []
  }
 ],
 "metadata": {
  "kernelspec": {
   "display_name": "pgr-course",
   "language": "python",
   "name": "python3"
  },
  "language_info": {
   "codemirror_mode": {
    "name": "ipython",
    "version": 3
   },
   "file_extension": ".py",
   "mimetype": "text/x-python",
   "name": "python",
   "nbconvert_exporter": "python",
   "pygments_lexer": "ipython3",
   "version": "3.12.7"
  }
 },
 "nbformat": 4,
 "nbformat_minor": 2
}
